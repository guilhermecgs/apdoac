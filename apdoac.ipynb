{
  "nbformat": 4,
  "nbformat_minor": 0,
  "metadata": {
    "colab": {
      "name": "apdoac.ipynb",
      "provenance": [],
      "include_colab_link": true
    },
    "kernelspec": {
      "name": "python3",
      "display_name": "Python 3"
    }
  },
  "cells": [
    {
      "cell_type": "markdown",
      "metadata": {
        "id": "view-in-github",
        "colab_type": "text"
      },
      "source": [
        "<a href=\"https://colab.research.google.com/github/guilhermecgs/apdoac/blob/master/apdoac.ipynb\" target=\"_parent\"><img src=\"https://colab.research.google.com/assets/colab-badge.svg\" alt=\"Open In Colab\"/></a>"
      ]
    },
    {
      "cell_type": "markdown",
      "metadata": {
        "id": "je0aTmO6xLlR"
      },
      "source": [
        "Dados da tese de mestrado APDOAC"
      ]
    },
    {
      "cell_type": "code",
      "metadata": {
        "id": "gakCORJKwvNr",
        "colab": {
          "base_uri": "https://localhost:8080/"
        },
        "outputId": "e8e2569b-f335-4f11-a254-184acdb017cc"
      },
      "source": [
        "!npx degit guilhermecgs/apdoac/dados -f dados"
      ],
      "execution_count": 16,
      "outputs": [
        {
          "output_type": "stream",
          "text": [
            "\u001b[K\u001b[?25hnpx: installed 1 in 0.987s\n",
            "\u001b[36m> destination directory is not empty. Using --force, continuing\u001b[39m\n",
            "\u001b[36m> cloned \u001b[1mguilhermecgs/apdoac\u001b[22m#\u001b[1mmaster\u001b[22m to dados\u001b[39m\n"
          ],
          "name": "stdout"
        }
      ]
    },
    {
      "cell_type": "code",
      "metadata": {
        "id": "MTNYE0MelHRS",
        "outputId": "418d90f7-5fa4-4fe1-fd15-edfb80e9acc4",
        "colab": {
          "base_uri": "https://localhost:8080/"
        }
      },
      "source": [
        "import os\n",
        "cwd = os.getcwd()\n",
        "print(cwd)"
      ],
      "execution_count": 19,
      "outputs": [
        {
          "output_type": "stream",
          "text": [
            "/content\n"
          ],
          "name": "stdout"
        }
      ]
    },
    {
      "cell_type": "code",
      "metadata": {
        "id": "9yrEhS_0w1CG",
        "colab": {
          "base_uri": "https://localhost:8080/"
        },
        "outputId": "14ec39c6-035e-427a-e274-c4d586f6438a"
      },
      "source": [
        "! pip install pandas\n",
        "! pip install tqdm\n",
        "! pip install xlsx2csv\n",
        "! pip install genderbr\n",
        "! pip install --upgrade genderbr"
      ],
      "execution_count": 17,
      "outputs": [
        {
          "output_type": "stream",
          "text": [
            "Requirement already satisfied: pandas in /usr/local/lib/python3.6/dist-packages (1.1.5)\n",
            "Requirement already satisfied: pytz>=2017.2 in /usr/local/lib/python3.6/dist-packages (from pandas) (2018.9)\n",
            "Requirement already satisfied: python-dateutil>=2.7.3 in /usr/local/lib/python3.6/dist-packages (from pandas) (2.8.1)\n",
            "Requirement already satisfied: numpy>=1.15.4 in /usr/local/lib/python3.6/dist-packages (from pandas) (1.19.4)\n",
            "Requirement already satisfied: six>=1.5 in /usr/local/lib/python3.6/dist-packages (from python-dateutil>=2.7.3->pandas) (1.15.0)\n",
            "Requirement already satisfied: tqdm in /usr/local/lib/python3.6/dist-packages (4.41.1)\n",
            "Requirement already satisfied: xlsx2csv in /usr/local/lib/python3.6/dist-packages (0.7.7)\n",
            "Requirement already satisfied: genderbr in /usr/local/lib/python3.6/dist-packages (0.1.2)\n",
            "Requirement already satisfied: requests in /usr/local/lib/python3.6/dist-packages (from genderbr) (2.23.0)\n",
            "Requirement already satisfied: chardet<4,>=3.0.2 in /usr/local/lib/python3.6/dist-packages (from requests->genderbr) (3.0.4)\n",
            "Requirement already satisfied: certifi>=2017.4.17 in /usr/local/lib/python3.6/dist-packages (from requests->genderbr) (2020.12.5)\n",
            "Requirement already satisfied: idna<3,>=2.5 in /usr/local/lib/python3.6/dist-packages (from requests->genderbr) (2.10)\n",
            "Requirement already satisfied: urllib3!=1.25.0,!=1.25.1,<1.26,>=1.21.1 in /usr/local/lib/python3.6/dist-packages (from requests->genderbr) (1.24.3)\n",
            "Requirement already up-to-date: genderbr in /usr/local/lib/python3.6/dist-packages (0.1.2)\n",
            "Requirement already satisfied, skipping upgrade: requests in /usr/local/lib/python3.6/dist-packages (from genderbr) (2.23.0)\n",
            "Requirement already satisfied, skipping upgrade: certifi>=2017.4.17 in /usr/local/lib/python3.6/dist-packages (from requests->genderbr) (2020.12.5)\n",
            "Requirement already satisfied, skipping upgrade: chardet<4,>=3.0.2 in /usr/local/lib/python3.6/dist-packages (from requests->genderbr) (3.0.4)\n",
            "Requirement already satisfied, skipping upgrade: idna<3,>=2.5 in /usr/local/lib/python3.6/dist-packages (from requests->genderbr) (2.10)\n",
            "Requirement already satisfied, skipping upgrade: urllib3!=1.25.0,!=1.25.1,<1.26,>=1.21.1 in /usr/local/lib/python3.6/dist-packages (from requests->genderbr) (1.24.3)\n"
          ],
          "name": "stdout"
        }
      ]
    },
    {
      "cell_type": "code",
      "metadata": {
        "id": "vCXgTMZbzBgl"
      },
      "source": [
        "import pandas as pd\n",
        "import numpy as np\n",
        "from tqdm.notebook import trange, tqdm\n",
        "from IPython.display import display, HTML\n"
      ],
      "execution_count": 20,
      "outputs": []
    },
    {
      "cell_type": "code",
      "metadata": {
        "id": "OvZIOJ0mMRB1",
        "colab": {
          "base_uri": "https://localhost:8080/"
        },
        "outputId": "879778b5-59f8-4afc-85c6-3374b589699d"
      },
      "source": [
        "import pickle\n",
        "import os.path\n",
        "\n",
        "def save(obj, name ):\n",
        "  with open(name + '.pkl', 'wb') as f:\n",
        "    pickle.dump(obj, f, 3)\n",
        "\n",
        "def load(name):\n",
        "  try:\n",
        "    with open(name + '.pkl', 'rb') as f:\n",
        "      return pickle.load(f)\n",
        "  except Exception as ex:\n",
        "    return {}\n",
        "\n",
        "if not os.path.isfile('dados/cnpq_2002-2019_com_sexo.csv'):\n",
        "  result = load('dados/temp_names')\n",
        "  print('numero de nomes processados anteriormente: ' + str(len(result)))\n",
        "  \n",
        "  df_cnpq_2002_2019_ic = pd.read_excel('dados/cnpq_2002-2019_ic.xlsx')\n",
        "  df_cnpq_2002_2019_pq_dt_mt = pd.read_excel('dados/cnpq_2002-2019_pq_dt_mt.xlsx')\n",
        "\n",
        "  df_cnpq_2002_2019 = pd.concat([df_cnpq_2002_2019_ic, df_cnpq_2002_2019_pq_dt_mt])\n",
        "  \n",
        "  def primeiro_nome(nome):\n",
        "    return nome.split(' ')[0]\n",
        "\n",
        "  df_cnpq_2002_2019['primeiro_nome'] = df_cnpq_2002_2019['Beneficiário'].apply(lambda nome: primeiro_nome(nome))\n",
        "\n",
        "  primeiros_nomes_unicos = df_cnpq_2002_2019['primeiro_nome'].unique()\n",
        "\n",
        "  from genderbr import get_gender\n",
        "  \n",
        "  i = 0\n",
        "  for primeiro_nome in tqdm(primeiros_nomes_unicos):\n",
        "    if primeiro_nome not in result:\n",
        "      result[primeiro_nome] = str(get_gender(primeiro_nome))\n",
        "      if i % 30 == 0:\n",
        "        save(result, 'dados/temp_names')\n",
        "    i = i + 1\n",
        "\n",
        "  df_cnpq_2002_2019['sexo'] = df_cnpq_2002_2019['primeiro_nome'].apply(lambda primeiro_nome: result[primeiro_nome])\n",
        "\n",
        "  df_cnpq_2002_2019.to_excel('dados/cnpq_2002-2019_com_sexo.xlsx')\n",
        "  df_cnpq_2002_2019.to_csv('dados/cnpq_2002-2019_com_sexo.csv')\n"
      ],
      "execution_count": null,
      "outputs": [
        {
          "output_type": "stream",
          "text": [
            "numero de nomes processados anteriormente: 17706\n"
          ],
          "name": "stdout"
        }
      ]
    },
    {
      "cell_type": "code",
      "metadata": {
        "id": "llf6ahCazebQ"
      },
      "source": [
        "import os\n",
        "import glob\n",
        "from tqdm.notebook import trange, tqdm\n",
        "from xlsx2csv import Xlsx2csv\n",
        "  \n",
        "\n",
        "def concat(pathname):\n",
        "  arquivos = glob.glob(pathname)\n",
        "  print('Unindo arquivos:')\n",
        "  print('\\n    -'.join(arquivos))\n",
        "\n",
        "  dfs = []\n",
        "  for arquivo in tqdm(arquivos):\n",
        "    arquivo_csv = arquivo.replace('xlsx', 'csv')\n",
        "    if not os.path.isfile(arquivo_csv):\n",
        "      Xlsx2csv(arquivo, outputencoding=\"utf-8\").convert(arquivo.replace('xlsx', 'csv'))\n",
        "\n",
        "    dfs.append(pd.read_csv(arquivo_csv))\n",
        "    \n",
        "  return pd.concat(dfs)\n"
      ],
      "execution_count": null,
      "outputs": []
    },
    {
      "cell_type": "code",
      "metadata": {
        "id": "Bhc_f0hu3m5q"
      },
      "source": [
        "df_pq = concat('*.xlsx')\n",
        "df_discentes = concat('discente/*.xlsx')\n",
        "df_docentes = concat('docente/*.xlsx')\n",
        " "
      ],
      "execution_count": null,
      "outputs": []
    },
    {
      "cell_type": "code",
      "metadata": {
        "id": "RIyAwW-6cT8q"
      },
      "source": [
        "def por_ano(df, grau='PQ - Produtividade em Pesquisa'):\n",
        "\n",
        "  if 'TP_SEXO_DOCENTE' in df.columns:\n",
        "    coluna_sexo = 'TP_SEXO_DOCENTE'\n",
        "    coluna_grau = 'NM_GRAU_PROGRAMA'\n",
        "    categoria = 'docentes'\n",
        "    coluna_grande_area = 'NM_GRANDE_AREA_CONHECIMENTO'\n",
        "    valor_masculino = 'MASCULINO'\n",
        "    valor_feminino = 'FEMININO'\n",
        "    coluna_ano = 'AN_BASE'\n",
        "\n",
        "  if 'TP_SEXO_DISCENTE' in df.columns:\n",
        "    coluna_sexo = 'TP_SEXO_DISCENTE'\n",
        "    coluna_grau = 'NM_GRAU_PROGRAMA'\n",
        "    categoria = 'discentes'\n",
        "    coluna_grande_area = 'NM_GRANDE_AREA_CONHECIMENTO'\n",
        "    valor_masculino = 'MASCULINO'\n",
        "    valor_feminino = 'FEMININO'\n",
        "    coluna_ano = 'AN_BASE'\n",
        "\n",
        "  if 'Beneficiário' in df.columns:\n",
        "    coluna_sexo = 'sexo'\n",
        "    coluna_grau = 'Modalidade'\n",
        "    categoria = 'PQ - Produtividade em Pesquisa'\n",
        "    coluna_grande_area = 'Grande Área'\n",
        "    valor_masculino = 'M'\n",
        "    valor_feminino = 'F'\n",
        "    coluna_ano = 'Ano Referência'\n",
        "\n",
        "  df_filtrado = df[df[coluna_grau] == grau]\n",
        "\n",
        "  anos = df.dropna(subset=[coluna_ano])[coluna_ano].unique()\n",
        "  anos = list(range(int(anos.min()), int(anos.max()) + 1, 1))\n",
        "  anos.sort()\n",
        "  \n",
        "  values_m = []\n",
        "  values_f = []\n",
        "\n",
        "  def obtem_numero(sexo, ano):\n",
        "    total = len(df_filtrado[((df_filtrado[coluna_grande_area].str.lower() == 'engenharias')  \n",
        "                      | (df_filtrado[coluna_grande_area].str.lower() == 'ciências exatas e da terra')) \n",
        "                      & ((df_filtrado[coluna_sexo] == valor_masculino) | (df_filtrado[coluna_sexo] == valor_feminino))\n",
        "                      & (df_filtrado[coluna_ano] == ano)])\n",
        "    \n",
        "    para_o_sexo = len(df_filtrado[((df_filtrado[coluna_grande_area].str.lower() == 'engenharias')  \n",
        "                      | (df_filtrado[coluna_grande_area].str.lower() == 'ciências exatas e da terra')) \n",
        "                      & (df_filtrado[coluna_sexo] == sexo)\n",
        "                      & (df_filtrado[coluna_ano] == ano)])\n",
        "\n",
        "    if total:\n",
        "      return para_o_sexo / total * 100.0\n",
        "    else:\n",
        "      return 0\n",
        "\n",
        "  for ano in anos:\n",
        "    values_m.append(obtem_numero(valor_masculino, ano))\n",
        "    values_f.append(obtem_numero(valor_feminino, ano))\n",
        "    \n",
        "  df = pd.DataFrame({'MASCULUNO': values_m, 'FEMINIMO': values_f}, index=map(int, anos))\n",
        "  ax = df.plot.bar(figsize=(15, 10), title='Percentual de bolsas de {grau} por ano para {categoria}'\n",
        "        .format(grau=grau.lower(), categoria=categoria))\n",
        "  ax.grid(True)\n",
        "  ax.set_xlabel(\"Ano\")\n",
        "  ax.set_ylim([0,100])\n",
        "  ax.set_ylabel(\"Percentual de bolsas de {grau} para {categoria}\".format(grau=grau.lower(), categoria=categoria))\n",
        "  ax.legend(loc='upper right')\n",
        "\n",
        "  for p in ax.patches:\n",
        "    if round(p.get_height()):\n",
        "      ax.annotate(str(int(round(p.get_height()))) + '%', (p.get_x() * 1.005, p.get_height() * 1.005))"
      ],
      "execution_count": null,
      "outputs": []
    },
    {
      "cell_type": "code",
      "metadata": {
        "id": "b_yaJT6jIt6U"
      },
      "source": [
        "def por_curso(df, grau='PQ - Produtividade em Pesquisa'):\n",
        "\n",
        "  if 'TP_SEXO_DOCENTE' in df.columns:\n",
        "    coluna_sexo = 'TP_SEXO_DOCENTE'\n",
        "    coluna_grau = 'NM_GRAU_PROGRAMA'\n",
        "    categoria = 'docentes'\n",
        "    coluna_grande_area = 'NM_GRANDE_AREA_CONHECIMENTO'\n",
        "    valor_masculino = 'MASCULINO'\n",
        "    valor_feminino = 'FEMININO'\n",
        "    coluna_ano = 'AN_BASE'\n",
        "\n",
        "  if 'TP_SEXO_DISCENTE' in df.columns:\n",
        "    coluna_sexo = 'TP_SEXO_DISCENTE'\n",
        "    coluna_grau = 'NM_GRAU_PROGRAMA'\n",
        "    categoria = 'discentes'\n",
        "    coluna_grande_area = 'NM_GRANDE_AREA_CONHECIMENTO'\n",
        "    valor_masculino = 'MASCULINO'\n",
        "    valor_feminino = 'FEMININO'\n",
        "    coluna_ano = 'AN_BASE'\n",
        "\n",
        "  if 'Beneficiário' in df.columns:\n",
        "    coluna_sexo = 'sexo'\n",
        "    coluna_grau = 'Modalidade'\n",
        "    categoria = 'PQ - Produtividade em Pesquisa'\n",
        "    coluna_grande_area = 'Grande Área'\n",
        "    valor_masculino = 'M'\n",
        "    valor_feminino = 'F'\n",
        "    coluna_ano = 'Ano Referência'\n",
        "\n",
        "  df_filtrado = df[df[coluna_grau] == grau]\n",
        "\n",
        "  areas_invalidas = ['indefinido']\n",
        "  areas = df[coluna_grande_area].unique()\n",
        "  areas = [area for area in areas if area.lower() not in areas_invalidas]\n",
        "  values_m = []\n",
        "  values_f = []\n",
        "\n",
        "  def obtem_numero(sexo, area):\n",
        "    total = len(df_filtrado[((df_filtrado[coluna_sexo] == valor_masculino) \n",
        "                           | (df_filtrado[coluna_sexo] == valor_feminino))\n",
        "                            & (df_filtrado[coluna_grande_area] == area)])\n",
        "    \n",
        "    para_o_sexo = len(df_filtrado[(df_filtrado[coluna_sexo] == sexo)\n",
        "                                & (df_filtrado[coluna_grande_area] == area)])\n",
        "  \n",
        "    return para_o_sexo / total * 100.0\n",
        "\n",
        "  for area in areas:\n",
        "    values_m.append(obtem_numero(valor_masculino, area))\n",
        "    values_f.append(obtem_numero(valor_feminino, area))\n",
        "  \n",
        "  df = pd.DataFrame({'MASCULUNO': values_m, 'FEMINIMO': values_f}, index=areas)\n",
        "  ax = df.plot.bar(figsize=(15, 10), title='Percentual de bolsas de {grau} por grande área de conhecimento para {categoria}'\n",
        "        .format(grau=grau.lower(), categoria=categoria))\n",
        "  ax.grid(True)\n",
        "  ax.set_xlabel(\"Grande área de conhecimento\")\n",
        "  ax.set_ylim([0,100])\n",
        "  ax.set_ylabel(\"Percentual de bolsas de {grau} para {categoria}\".format(grau=grau.lower(), categoria=categoria))\n",
        "  ax.legend(loc='upper right')\n",
        "\n",
        "  for p in ax.patches:\n",
        "    if round(p.get_height()):\n",
        "      ax.annotate(str(int(round(p.get_height()))) + '%', (p.get_x() * 1.005, p.get_height() * 1.005))"
      ],
      "execution_count": null,
      "outputs": []
    },
    {
      "cell_type": "code",
      "metadata": {
        "id": "wFjQvki55UQA"
      },
      "source": [
        "por_ano(df_pq)\n",
        "por_ano(df_discentes, 'MESTRADO')\n",
        "por_ano(df_discentes, 'DOUTORADO')\n",
        "por_ano(df_docentes, grau='MESTRADO')\n",
        "por_ano(df_docentes, grau='DOUTORADO')\n",
        "\n",
        "por_curso(df_pq)\n",
        "por_curso(df_discentes, grau='MESTRADO')\n",
        "por_curso(df_discentes, grau='DOUTORADO')\n",
        "por_curso(df_docentes, grau='MESTRADO')\n",
        "por_curso(df_docentes, grau='DOUTORADO')"
      ],
      "execution_count": null,
      "outputs": []
    },
    {
      "cell_type": "code",
      "metadata": {
        "id": "YSWpjDlUCn94"
      },
      "source": [
        ""
      ],
      "execution_count": null,
      "outputs": []
    }
  ]
}