{
  "nbformat": 4,
  "nbformat_minor": 0,
  "metadata": {
    "colab": {
      "name": "apdoac.ipynb",
      "provenance": [],
      "include_colab_link": true
    },
    "kernelspec": {
      "name": "python3",
      "display_name": "Python 3"
    }
  },
  "cells": [
    {
      "cell_type": "markdown",
      "metadata": {
        "id": "view-in-github",
        "colab_type": "text"
      },
      "source": [
        "<a href=\"https://colab.research.google.com/github/guilhermecgs/apdoac/blob/master/apdoac.ipynb\" target=\"_parent\"><img src=\"https://colab.research.google.com/assets/colab-badge.svg\" alt=\"Open In Colab\"/></a>"
      ]
    },
    {
      "cell_type": "markdown",
      "metadata": {
        "id": "je0aTmO6xLlR"
      },
      "source": [
        "Dados da tese de mestrado APDOAC"
      ]
    },
    {
      "cell_type": "code",
      "metadata": {
        "id": "gakCORJKwvNr",
        "colab": {
          "base_uri": "https://localhost:8080/"
        },
        "outputId": "9cd2bec2-54f7-4c4e-9744-ac9a15bfc8ec"
      },
      "source": [
        "!npx degit guilhermecgs/apdoac/dados -f dados"
      ],
      "execution_count": 1,
      "outputs": [
        {
          "output_type": "stream",
          "text": [
            "\u001b[K\u001b[?25hnpx: installed 1 in 2.278s\n",
            "\u001b[36m> cloned \u001b[1mguilhermecgs/apdoac\u001b[22m#\u001b[1mmaster\u001b[22m to dados\u001b[39m\n"
          ],
          "name": "stdout"
        }
      ]
    },
    {
      "cell_type": "code",
      "metadata": {
        "id": "MTNYE0MelHRS",
        "colab": {
          "base_uri": "https://localhost:8080/"
        },
        "outputId": "d3145215-6122-4c31-8590-820287b1d5f7"
      },
      "source": [
        "import os\n",
        "cwd = os.getcwd()\n",
        "print(cwd)"
      ],
      "execution_count": 2,
      "outputs": [
        {
          "output_type": "stream",
          "text": [
            "/content\n"
          ],
          "name": "stdout"
        }
      ]
    },
    {
      "cell_type": "code",
      "metadata": {
        "id": "9yrEhS_0w1CG",
        "colab": {
          "base_uri": "https://localhost:8080/"
        },
        "outputId": "076e3409-b4f4-4cd5-ccdd-70b813a5b141"
      },
      "source": [
        "! pip install pandas\n",
        "! pip install tqdm\n",
        "! pip install xlsx2csv\n",
        "! pip install genderbr\n",
        "! pip install --upgrade genderbr\n"
      ],
      "execution_count": 3,
      "outputs": [
        {
          "output_type": "stream",
          "text": [
            "Requirement already satisfied: pandas in /usr/local/lib/python3.6/dist-packages (1.1.5)\n",
            "Requirement already satisfied: numpy>=1.15.4 in /usr/local/lib/python3.6/dist-packages (from pandas) (1.19.4)\n",
            "Requirement already satisfied: pytz>=2017.2 in /usr/local/lib/python3.6/dist-packages (from pandas) (2018.9)\n",
            "Requirement already satisfied: python-dateutil>=2.7.3 in /usr/local/lib/python3.6/dist-packages (from pandas) (2.8.1)\n",
            "Requirement already satisfied: six>=1.5 in /usr/local/lib/python3.6/dist-packages (from python-dateutil>=2.7.3->pandas) (1.15.0)\n",
            "Requirement already satisfied: tqdm in /usr/local/lib/python3.6/dist-packages (4.41.1)\n",
            "Collecting xlsx2csv\n",
            "\u001b[?25l  Downloading https://files.pythonhosted.org/packages/ac/8c/96123b503a4d986b56278ad87aa70e1c6528d775d15380007bf1abfcf7b8/xlsx2csv-0.7.7.tar.gz (237kB)\n",
            "\u001b[K     |████████████████████████████████| 245kB 5.6MB/s \n",
            "\u001b[?25hBuilding wheels for collected packages: xlsx2csv\n",
            "  Building wheel for xlsx2csv (setup.py) ... \u001b[?25l\u001b[?25hdone\n",
            "  Created wheel for xlsx2csv: filename=xlsx2csv-0.7.7-cp36-none-any.whl size=44871 sha256=12b20356a4bb079783fa5abb0e2aea2266fc0eaa2eadfefa7c3d4ad838801a69\n",
            "  Stored in directory: /root/.cache/pip/wheels/9f/d1/6e/1b6cbf7dcfe72469d95f2cd331a373e8e2fde30a5946d61dfd\n",
            "Successfully built xlsx2csv\n",
            "Installing collected packages: xlsx2csv\n",
            "Successfully installed xlsx2csv-0.7.7\n",
            "Collecting genderbr\n",
            "  Downloading https://files.pythonhosted.org/packages/81/3e/a61a53dde1ba180147da8e8de026db050c20fb4094c45d9ab4773d74f936/genderbr-0.1.2.tar.gz\n",
            "Requirement already satisfied: requests in /usr/local/lib/python3.6/dist-packages (from genderbr) (2.23.0)\n",
            "Requirement already satisfied: certifi>=2017.4.17 in /usr/local/lib/python3.6/dist-packages (from requests->genderbr) (2020.12.5)\n",
            "Requirement already satisfied: urllib3!=1.25.0,!=1.25.1,<1.26,>=1.21.1 in /usr/local/lib/python3.6/dist-packages (from requests->genderbr) (1.24.3)\n",
            "Requirement already satisfied: chardet<4,>=3.0.2 in /usr/local/lib/python3.6/dist-packages (from requests->genderbr) (3.0.4)\n",
            "Requirement already satisfied: idna<3,>=2.5 in /usr/local/lib/python3.6/dist-packages (from requests->genderbr) (2.10)\n",
            "Building wheels for collected packages: genderbr\n",
            "  Building wheel for genderbr (setup.py) ... \u001b[?25l\u001b[?25hdone\n",
            "  Created wheel for genderbr: filename=genderbr-0.1.2-cp36-none-any.whl size=2268 sha256=cf8f5e790280b003c58d79779d9ba0dc85b935db9a039950dd655ed037fb6840\n",
            "  Stored in directory: /root/.cache/pip/wheels/40/72/3c/16afd51aa7b8d98204f781c2854ff8b37623665e6e9fcc20f6\n",
            "Successfully built genderbr\n",
            "Installing collected packages: genderbr\n",
            "Successfully installed genderbr-0.1.2\n",
            "Requirement already up-to-date: genderbr in /usr/local/lib/python3.6/dist-packages (0.1.2)\n",
            "Requirement already satisfied, skipping upgrade: requests in /usr/local/lib/python3.6/dist-packages (from genderbr) (2.23.0)\n",
            "Requirement already satisfied, skipping upgrade: chardet<4,>=3.0.2 in /usr/local/lib/python3.6/dist-packages (from requests->genderbr) (3.0.4)\n",
            "Requirement already satisfied, skipping upgrade: urllib3!=1.25.0,!=1.25.1,<1.26,>=1.21.1 in /usr/local/lib/python3.6/dist-packages (from requests->genderbr) (1.24.3)\n",
            "Requirement already satisfied, skipping upgrade: certifi>=2017.4.17 in /usr/local/lib/python3.6/dist-packages (from requests->genderbr) (2020.12.5)\n",
            "Requirement already satisfied, skipping upgrade: idna<3,>=2.5 in /usr/local/lib/python3.6/dist-packages (from requests->genderbr) (2.10)\n"
          ],
          "name": "stdout"
        }
      ]
    },
    {
      "cell_type": "code",
      "metadata": {
        "id": "vCXgTMZbzBgl"
      },
      "source": [
        "import pandas as pd\n",
        "import numpy as np\n",
        "from tqdm.notebook import trange, tqdm\n",
        "from IPython.display import display, HTML\n"
      ],
      "execution_count": 4,
      "outputs": []
    },
    {
      "cell_type": "code",
      "metadata": {
        "id": "OvZIOJ0mMRB1"
      },
      "source": [
        "import pickle\n",
        "import os.path\n",
        "\n",
        "def save(obj, name ):\n",
        "  with open(name + '.pkl', 'wb') as f:\n",
        "    pickle.dump(obj, f, 3)\n",
        "\n",
        "def load(name):\n",
        "  try:\n",
        "    with open(name + '.pkl', 'rb') as f:\n",
        "      return pickle.load(f)\n",
        "  except Exception as ex:\n",
        "    return {}\n",
        "\n",
        "if not os.path.isfile('dados/cnpq_2002-2019_com_sexo.csv') and not os.path.isfile('dados/cnpq_2002-2019_com_sexo.csv.zip'):\n",
        "  result = load('dados/temp_names')\n",
        "  print('numero de nomes processados anteriormente: ' + str(len(result)))\n",
        "  \n",
        "  df_cnpq_2002_2019_ic = pd.read_excel('dados/cnpq_2002-2019_ic.xlsx')\n",
        "  df_cnpq_2002_2019_pq_dt_mt = pd.read_excel('dados/cnpq_2002-2019_pq_dt_mt.xlsx')\n",
        "\n",
        "  df_cnpq_2002_2019 = pd.concat([df_cnpq_2002_2019_ic, df_cnpq_2002_2019_pq_dt_mt])\n",
        "  \n",
        "  def primeiro_nome(nome):\n",
        "    return nome.split(' ')[0]\n",
        "\n",
        "  df_cnpq_2002_2019['primeiro_nome'] = df_cnpq_2002_2019['Beneficiário'].apply(lambda nome: primeiro_nome(nome))\n",
        "\n",
        "  primeiros_nomes_unicos = df_cnpq_2002_2019['primeiro_nome'].unique()\n",
        "\n",
        "  from genderbr import get_gender\n",
        "  \n",
        "  i = 0\n",
        "  for primeiro_nome in tqdm(primeiros_nomes_unicos):\n",
        "    if primeiro_nome not in result:\n",
        "      result[primeiro_nome] = str(get_gender(primeiro_nome))\n",
        "      if i % 30 == 0:\n",
        "        save(result, 'dados/temp_names')\n",
        "    i = i + 1\n",
        "\n",
        "  df_cnpq_2002_2019['sexo'] = df_cnpq_2002_2019['primeiro_nome'].apply(lambda primeiro_nome: result[primeiro_nome])\n",
        "\n",
        "  df_cnpq_2002_2019.to_excel('dados/cnpq_2002-2019_com_sexo.xlsx')\n",
        "  df_cnpq_2002_2019.to_csv('dados/cnpq_2002-2019_com_sexo.csv')\n"
      ],
      "execution_count": 7,
      "outputs": []
    },
    {
      "cell_type": "code",
      "metadata": {
        "id": "wOs1lYLbBM23"
      },
      "source": [
        "import zipfile\n",
        "with zipfile.ZipFile('dados/cnpq_2002-2019_com_sexo.csv.zip', 'r') as zip_ref:\n",
        "    zip_ref.extractall('dados')"
      ],
      "execution_count": 9,
      "outputs": []
    },
    {
      "cell_type": "code",
      "metadata": {
        "id": "llf6ahCazebQ"
      },
      "source": [
        "import os\n",
        "import glob\n",
        "from tqdm.notebook import trange, tqdm\n",
        "from xlsx2csv import Xlsx2csv\n",
        "  \n",
        "\n",
        "def concat(pathname):\n",
        "  arquivos = glob.glob(pathname)\n",
        "  print('Unindo arquivos:')\n",
        "  print('\\n    -'.join(arquivos))\n",
        "\n",
        "  dfs = []\n",
        "  for arquivo in tqdm(arquivos):\n",
        "    arquivo_csv = arquivo.replace('xlsx', 'csv')\n",
        "    if not os.path.isfile(arquivo_csv):\n",
        "      Xlsx2csv(arquivo, outputencoding=\"utf-8\").convert(arquivo.replace('xlsx', 'csv'))\n",
        "\n",
        "    dfs.append(pd.read_csv(arquivo_csv))\n",
        "    \n",
        "  return pd.concat(dfs)\n"
      ],
      "execution_count": 10,
      "outputs": []
    },
    {
      "cell_type": "code",
      "metadata": {
        "id": "Bhc_f0hu3m5q"
      },
      "source": [
        "df_pq = concat('*.xlsx')\n",
        "df_discentes = concat('discente/*.xlsx')\n",
        "df_docentes = concat('docente/*.xlsx')\n",
        " "
      ],
      "execution_count": null,
      "outputs": []
    },
    {
      "cell_type": "code",
      "metadata": {
        "id": "RIyAwW-6cT8q"
      },
      "source": [
        "def por_ano(df, grau='PQ - Produtividade em Pesquisa'):\n",
        "\n",
        "  if 'TP_SEXO_DOCENTE' in df.columns:\n",
        "    coluna_sexo = 'TP_SEXO_DOCENTE'\n",
        "    coluna_grau = 'NM_GRAU_PROGRAMA'\n",
        "    categoria = 'docentes'\n",
        "    coluna_grande_area = 'NM_GRANDE_AREA_CONHECIMENTO'\n",
        "    valor_masculino = 'MASCULINO'\n",
        "    valor_feminino = 'FEMININO'\n",
        "    coluna_ano = 'AN_BASE'\n",
        "\n",
        "  if 'TP_SEXO_DISCENTE' in df.columns:\n",
        "    coluna_sexo = 'TP_SEXO_DISCENTE'\n",
        "    coluna_grau = 'NM_GRAU_PROGRAMA'\n",
        "    categoria = 'discentes'\n",
        "    coluna_grande_area = 'NM_GRANDE_AREA_CONHECIMENTO'\n",
        "    valor_masculino = 'MASCULINO'\n",
        "    valor_feminino = 'FEMININO'\n",
        "    coluna_ano = 'AN_BASE'\n",
        "\n",
        "  if 'Beneficiário' in df.columns:\n",
        "    coluna_sexo = 'sexo'\n",
        "    coluna_grau = 'Modalidade'\n",
        "    categoria = 'PQ - Produtividade em Pesquisa'\n",
        "    coluna_grande_area = 'Grande Área'\n",
        "    valor_masculino = 'M'\n",
        "    valor_feminino = 'F'\n",
        "    coluna_ano = 'Ano Referência'\n",
        "\n",
        "  df_filtrado = df[df[coluna_grau] == grau]\n",
        "\n",
        "  anos = df.dropna(subset=[coluna_ano])[coluna_ano].unique()\n",
        "  anos = list(range(int(anos.min()), int(anos.max()) + 1, 1))\n",
        "  anos.sort()\n",
        "  \n",
        "  values_m = []\n",
        "  values_f = []\n",
        "\n",
        "  def obtem_numero(sexo, ano):\n",
        "    total = len(df_filtrado[((df_filtrado[coluna_grande_area].str.lower() == 'engenharias')  \n",
        "                      | (df_filtrado[coluna_grande_area].str.lower() == 'ciências exatas e da terra')) \n",
        "                      & ((df_filtrado[coluna_sexo] == valor_masculino) | (df_filtrado[coluna_sexo] == valor_feminino))\n",
        "                      & (df_filtrado[coluna_ano] == ano)])\n",
        "    \n",
        "    para_o_sexo = len(df_filtrado[((df_filtrado[coluna_grande_area].str.lower() == 'engenharias')  \n",
        "                      | (df_filtrado[coluna_grande_area].str.lower() == 'ciências exatas e da terra')) \n",
        "                      & (df_filtrado[coluna_sexo] == sexo)\n",
        "                      & (df_filtrado[coluna_ano] == ano)])\n",
        "\n",
        "    if total:\n",
        "      return para_o_sexo / total * 100.0\n",
        "    else:\n",
        "      return 0\n",
        "\n",
        "  for ano in anos:\n",
        "    values_m.append(obtem_numero(valor_masculino, ano))\n",
        "    values_f.append(obtem_numero(valor_feminino, ano))\n",
        "    \n",
        "  df = pd.DataFrame({'MASCULUNO': values_m, 'FEMINIMO': values_f}, index=map(int, anos))\n",
        "  ax = df.plot.bar(figsize=(15, 10), title='Percentual de bolsas de {grau} por ano para {categoria}'\n",
        "        .format(grau=grau.lower(), categoria=categoria))\n",
        "  ax.grid(True)\n",
        "  ax.set_xlabel(\"Ano\")\n",
        "  ax.set_ylim([0,100])\n",
        "  ax.set_ylabel(\"Percentual de bolsas de {grau} para {categoria}\".format(grau=grau.lower(), categoria=categoria))\n",
        "  ax.legend(loc='upper right')\n",
        "\n",
        "  for p in ax.patches:\n",
        "    if round(p.get_height()):\n",
        "      ax.annotate(str(int(round(p.get_height()))) + '%', (p.get_x() * 1.005, p.get_height() * 1.005))"
      ],
      "execution_count": null,
      "outputs": []
    },
    {
      "cell_type": "code",
      "metadata": {
        "id": "b_yaJT6jIt6U"
      },
      "source": [
        "def por_curso(df, grau='PQ - Produtividade em Pesquisa'):\n",
        "\n",
        "  if 'TP_SEXO_DOCENTE' in df.columns:\n",
        "    coluna_sexo = 'TP_SEXO_DOCENTE'\n",
        "    coluna_grau = 'NM_GRAU_PROGRAMA'\n",
        "    categoria = 'docentes'\n",
        "    coluna_grande_area = 'NM_GRANDE_AREA_CONHECIMENTO'\n",
        "    valor_masculino = 'MASCULINO'\n",
        "    valor_feminino = 'FEMININO'\n",
        "    coluna_ano = 'AN_BASE'\n",
        "\n",
        "  if 'TP_SEXO_DISCENTE' in df.columns:\n",
        "    coluna_sexo = 'TP_SEXO_DISCENTE'\n",
        "    coluna_grau = 'NM_GRAU_PROGRAMA'\n",
        "    categoria = 'discentes'\n",
        "    coluna_grande_area = 'NM_GRANDE_AREA_CONHECIMENTO'\n",
        "    valor_masculino = 'MASCULINO'\n",
        "    valor_feminino = 'FEMININO'\n",
        "    coluna_ano = 'AN_BASE'\n",
        "\n",
        "  if 'Beneficiário' in df.columns:\n",
        "    coluna_sexo = 'sexo'\n",
        "    coluna_grau = 'Modalidade'\n",
        "    categoria = 'PQ - Produtividade em Pesquisa'\n",
        "    coluna_grande_area = 'Grande Área'\n",
        "    valor_masculino = 'M'\n",
        "    valor_feminino = 'F'\n",
        "    coluna_ano = 'Ano Referência'\n",
        "\n",
        "  df_filtrado = df[df[coluna_grau] == grau]\n",
        "\n",
        "  areas_invalidas = ['indefinido']\n",
        "  areas = df[coluna_grande_area].unique()\n",
        "  areas = [area for area in areas if area.lower() not in areas_invalidas]\n",
        "  values_m = []\n",
        "  values_f = []\n",
        "\n",
        "  def obtem_numero(sexo, area):\n",
        "    total = len(df_filtrado[((df_filtrado[coluna_sexo] == valor_masculino) \n",
        "                           | (df_filtrado[coluna_sexo] == valor_feminino))\n",
        "                            & (df_filtrado[coluna_grande_area] == area)])\n",
        "    \n",
        "    para_o_sexo = len(df_filtrado[(df_filtrado[coluna_sexo] == sexo)\n",
        "                                & (df_filtrado[coluna_grande_area] == area)])\n",
        "  \n",
        "    return para_o_sexo / total * 100.0\n",
        "\n",
        "  for area in areas:\n",
        "    values_m.append(obtem_numero(valor_masculino, area))\n",
        "    values_f.append(obtem_numero(valor_feminino, area))\n",
        "  \n",
        "  df = pd.DataFrame({'MASCULUNO': values_m, 'FEMINIMO': values_f}, index=areas)\n",
        "  ax = df.plot.bar(figsize=(15, 10), title='Percentual de bolsas de {grau} por grande área de conhecimento para {categoria}'\n",
        "        .format(grau=grau.lower(), categoria=categoria))\n",
        "  ax.grid(True)\n",
        "  ax.set_xlabel(\"Grande área de conhecimento\")\n",
        "  ax.set_ylim([0,100])\n",
        "  ax.set_ylabel(\"Percentual de bolsas de {grau} para {categoria}\".format(grau=grau.lower(), categoria=categoria))\n",
        "  ax.legend(loc='upper right')\n",
        "\n",
        "  for p in ax.patches:\n",
        "    if round(p.get_height()):\n",
        "      ax.annotate(str(int(round(p.get_height()))) + '%', (p.get_x() * 1.005, p.get_height() * 1.005))"
      ],
      "execution_count": null,
      "outputs": []
    },
    {
      "cell_type": "code",
      "metadata": {
        "id": "wFjQvki55UQA"
      },
      "source": [
        "por_ano(df_pq)\n",
        "por_ano(df_discentes, 'MESTRADO')\n",
        "por_ano(df_discentes, 'DOUTORADO')\n",
        "por_ano(df_docentes, grau='MESTRADO')\n",
        "por_ano(df_docentes, grau='DOUTORADO')\n",
        "\n",
        "por_curso(df_pq)\n",
        "por_curso(df_discentes, grau='MESTRADO')\n",
        "por_curso(df_discentes, grau='DOUTORADO')\n",
        "por_curso(df_docentes, grau='MESTRADO')\n",
        "por_curso(df_docentes, grau='DOUTORADO')"
      ],
      "execution_count": null,
      "outputs": []
    },
    {
      "cell_type": "code",
      "metadata": {
        "id": "YSWpjDlUCn94"
      },
      "source": [
        ""
      ],
      "execution_count": null,
      "outputs": []
    }
  ]
}